{
  "cells": [
    {
      "cell_type": "markdown",
      "metadata": {
        "id": "view-in-github",
        "colab_type": "text"
      },
      "source": [
        "<a href=\"https://colab.research.google.com/github/b62mp1/dataset/blob/main/stock_price_prediction_LSTM.ipynb\" target=\"_parent\"><img src=\"https://colab.research.google.com/assets/colab-badge.svg\" alt=\"Open In Colab\"/></a>"
      ]
    },
    {
      "cell_type": "markdown",
      "metadata": {
        "id": "XXRS8X3VUsSn"
      },
      "source": [
        "# Stock Price Prediction of Microsoft"
      ]
    },
    {
      "cell_type": "code",
      "execution_count": 1,
      "metadata": {
        "id": "-giTejgbUsSs"
      },
      "outputs": [],
      "source": [
        "import pandas as pd\n",
        "import numpy as np\n",
        "%matplotlib inline\n",
        "import matplotlib.pyplot as plt\n",
        "import matplotlib\n",
        "from sklearn.preprocessing import MinMaxScaler\n",
        "from keras.layers import LSTM,Dense,Dropout\n",
        "from sklearn.model_selection import TimeSeriesSplit\n",
        "from sklearn.metrics import mean_squared_error, r2_score\n",
        "import matplotlib.dates as mdates\n",
        "from sklearn import linear_model\n"
      ]
    },
    {
      "cell_type": "markdown",
      "metadata": {
        "id": "bGtOi94-UsSx"
      },
      "source": [
        "# Reading data using parse date\n",
        "As it is timeseries data so we have to read the data by parsing date means making data column as index."
      ]
    },
    {
      "cell_type": "code",
      "execution_count": 3,
      "metadata": {
        "id": "Sftrm4WDUsSz"
      },
      "outputs": [],
      "source": [
        "\n",
        "df_final = pd.read_csv(\"MSFT.csv\",na_values=['null'],index_col='Date',parse_dates=True,infer_datetime_format=True)"
      ]
    },
    {
      "cell_type": "code",
      "execution_count": 4,
      "metadata": {
        "colab": {
          "base_uri": "https://localhost:8080/",
          "height": 238
        },
        "id": "G_jXkgkSUsS0",
        "outputId": "5ce3ea92-563e-47e5-9dda-b323533c3914"
      },
      "outputs": [
        {
          "output_type": "execute_result",
          "data": {
            "text/html": [
              "<div>\n",
              "<style scoped>\n",
              "    .dataframe tbody tr th:only-of-type {\n",
              "        vertical-align: middle;\n",
              "    }\n",
              "\n",
              "    .dataframe tbody tr th {\n",
              "        vertical-align: top;\n",
              "    }\n",
              "\n",
              "    .dataframe thead th {\n",
              "        text-align: right;\n",
              "    }\n",
              "</style>\n",
              "<table border=\"1\" class=\"dataframe\">\n",
              "  <thead>\n",
              "    <tr style=\"text-align: right;\">\n",
              "      <th></th>\n",
              "      <th>Open</th>\n",
              "      <th>High</th>\n",
              "      <th>Low</th>\n",
              "      <th>Close</th>\n",
              "      <th>Adj Close</th>\n",
              "      <th>Volume</th>\n",
              "    </tr>\n",
              "    <tr>\n",
              "      <th>Date</th>\n",
              "      <th></th>\n",
              "      <th></th>\n",
              "      <th></th>\n",
              "      <th></th>\n",
              "      <th></th>\n",
              "      <th></th>\n",
              "    </tr>\n",
              "  </thead>\n",
              "  <tbody>\n",
              "    <tr>\n",
              "      <th>1990-01-02</th>\n",
              "      <td>0.605903</td>\n",
              "      <td>0.616319</td>\n",
              "      <td>0.598090</td>\n",
              "      <td>0.616319</td>\n",
              "      <td>0.447268</td>\n",
              "      <td>53033600</td>\n",
              "    </tr>\n",
              "    <tr>\n",
              "      <th>1990-01-03</th>\n",
              "      <td>0.621528</td>\n",
              "      <td>0.626736</td>\n",
              "      <td>0.614583</td>\n",
              "      <td>0.619792</td>\n",
              "      <td>0.449788</td>\n",
              "      <td>113772800</td>\n",
              "    </tr>\n",
              "    <tr>\n",
              "      <th>1990-01-04</th>\n",
              "      <td>0.619792</td>\n",
              "      <td>0.638889</td>\n",
              "      <td>0.616319</td>\n",
              "      <td>0.638021</td>\n",
              "      <td>0.463017</td>\n",
              "      <td>125740800</td>\n",
              "    </tr>\n",
              "    <tr>\n",
              "      <th>1990-01-05</th>\n",
              "      <td>0.635417</td>\n",
              "      <td>0.638889</td>\n",
              "      <td>0.621528</td>\n",
              "      <td>0.622396</td>\n",
              "      <td>0.451678</td>\n",
              "      <td>69564800</td>\n",
              "    </tr>\n",
              "    <tr>\n",
              "      <th>1990-01-08</th>\n",
              "      <td>0.621528</td>\n",
              "      <td>0.631944</td>\n",
              "      <td>0.614583</td>\n",
              "      <td>0.631944</td>\n",
              "      <td>0.458607</td>\n",
              "      <td>58982400</td>\n",
              "    </tr>\n",
              "  </tbody>\n",
              "</table>\n",
              "</div>"
            ],
            "text/plain": [
              "                Open      High       Low     Close  Adj Close     Volume\n",
              "Date                                                                    \n",
              "1990-01-02  0.605903  0.616319  0.598090  0.616319   0.447268   53033600\n",
              "1990-01-03  0.621528  0.626736  0.614583  0.619792   0.449788  113772800\n",
              "1990-01-04  0.619792  0.638889  0.616319  0.638021   0.463017  125740800\n",
              "1990-01-05  0.635417  0.638889  0.621528  0.622396   0.451678   69564800\n",
              "1990-01-08  0.621528  0.631944  0.614583  0.631944   0.458607   58982400"
            ]
          },
          "metadata": {},
          "execution_count": 4
        }
      ],
      "source": [
        "df_final.head()"
      ]
    },
    {
      "cell_type": "code",
      "execution_count": 5,
      "metadata": {
        "colab": {
          "base_uri": "https://localhost:8080/"
        },
        "id": "nxVrnjMxUsS4",
        "outputId": "51f883b4-3e0d-4d40-f618-eb9c93b968d0"
      },
      "outputs": [
        {
          "output_type": "execute_result",
          "data": {
            "text/plain": [
              "(7334, 6)"
            ]
          },
          "metadata": {},
          "execution_count": 5
        }
      ],
      "source": [
        "\n",
        "df_final.shape"
      ]
    },
    {
      "cell_type": "code",
      "execution_count": 6,
      "metadata": {
        "colab": {
          "base_uri": "https://localhost:8080/",
          "height": 300
        },
        "id": "mC55vO3OUsS6",
        "outputId": "ccb24a42-88ba-4e22-8241-ef4124ff8e5b"
      },
      "outputs": [
        {
          "output_type": "execute_result",
          "data": {
            "text/html": [
              "<div>\n",
              "<style scoped>\n",
              "    .dataframe tbody tr th:only-of-type {\n",
              "        vertical-align: middle;\n",
              "    }\n",
              "\n",
              "    .dataframe tbody tr th {\n",
              "        vertical-align: top;\n",
              "    }\n",
              "\n",
              "    .dataframe thead th {\n",
              "        text-align: right;\n",
              "    }\n",
              "</style>\n",
              "<table border=\"1\" class=\"dataframe\">\n",
              "  <thead>\n",
              "    <tr style=\"text-align: right;\">\n",
              "      <th></th>\n",
              "      <th>Open</th>\n",
              "      <th>High</th>\n",
              "      <th>Low</th>\n",
              "      <th>Close</th>\n",
              "      <th>Adj Close</th>\n",
              "      <th>Volume</th>\n",
              "    </tr>\n",
              "  </thead>\n",
              "  <tbody>\n",
              "    <tr>\n",
              "      <th>count</th>\n",
              "      <td>7334.000000</td>\n",
              "      <td>7334.000000</td>\n",
              "      <td>7334.000000</td>\n",
              "      <td>7334.000000</td>\n",
              "      <td>7334.000000</td>\n",
              "      <td>7.334000e+03</td>\n",
              "    </tr>\n",
              "    <tr>\n",
              "      <th>mean</th>\n",
              "      <td>28.578362</td>\n",
              "      <td>28.891892</td>\n",
              "      <td>28.261203</td>\n",
              "      <td>28.582426</td>\n",
              "      <td>24.008891</td>\n",
              "      <td>6.022760e+07</td>\n",
              "    </tr>\n",
              "    <tr>\n",
              "      <th>std</th>\n",
              "      <td>22.279033</td>\n",
              "      <td>22.476021</td>\n",
              "      <td>22.054379</td>\n",
              "      <td>22.275692</td>\n",
              "      <td>21.941225</td>\n",
              "      <td>3.400345e+07</td>\n",
              "    </tr>\n",
              "    <tr>\n",
              "      <th>min</th>\n",
              "      <td>0.591146</td>\n",
              "      <td>0.604167</td>\n",
              "      <td>0.583333</td>\n",
              "      <td>0.598090</td>\n",
              "      <td>0.434039</td>\n",
              "      <td>3.705600e+06</td>\n",
              "    </tr>\n",
              "    <tr>\n",
              "      <th>25%</th>\n",
              "      <td>12.457031</td>\n",
              "      <td>12.595703</td>\n",
              "      <td>12.261719</td>\n",
              "      <td>12.488281</td>\n",
              "      <td>9.062849</td>\n",
              "      <td>3.821840e+07</td>\n",
              "    </tr>\n",
              "    <tr>\n",
              "      <th>50%</th>\n",
              "      <td>26.980000</td>\n",
              "      <td>27.235000</td>\n",
              "      <td>26.730000</td>\n",
              "      <td>26.990000</td>\n",
              "      <td>20.431164</td>\n",
              "      <td>5.429885e+07</td>\n",
              "    </tr>\n",
              "    <tr>\n",
              "      <th>75%</th>\n",
              "      <td>34.716562</td>\n",
              "      <td>35.099998</td>\n",
              "      <td>34.250000</td>\n",
              "      <td>34.687500</td>\n",
              "      <td>26.993589</td>\n",
              "      <td>7.367888e+07</td>\n",
              "    </tr>\n",
              "    <tr>\n",
              "      <th>max</th>\n",
              "      <td>115.419998</td>\n",
              "      <td>116.180000</td>\n",
              "      <td>114.930000</td>\n",
              "      <td>115.610001</td>\n",
              "      <td>115.112709</td>\n",
              "      <td>7.645040e+08</td>\n",
              "    </tr>\n",
              "  </tbody>\n",
              "</table>\n",
              "</div>"
            ],
            "text/plain": [
              "              Open         High  ...    Adj Close        Volume\n",
              "count  7334.000000  7334.000000  ...  7334.000000  7.334000e+03\n",
              "mean     28.578362    28.891892  ...    24.008891  6.022760e+07\n",
              "std      22.279033    22.476021  ...    21.941225  3.400345e+07\n",
              "min       0.591146     0.604167  ...     0.434039  3.705600e+06\n",
              "25%      12.457031    12.595703  ...     9.062849  3.821840e+07\n",
              "50%      26.980000    27.235000  ...    20.431164  5.429885e+07\n",
              "75%      34.716562    35.099998  ...    26.993589  7.367888e+07\n",
              "max     115.419998   116.180000  ...   115.112709  7.645040e+08\n",
              "\n",
              "[8 rows x 6 columns]"
            ]
          },
          "metadata": {},
          "execution_count": 6
        }
      ],
      "source": [
        "df_final.describe()"
      ]
    },
    {
      "cell_type": "code",
      "execution_count": 7,
      "metadata": {
        "colab": {
          "base_uri": "https://localhost:8080/"
        },
        "id": "6yyoEQbRUsS8",
        "outputId": "c766d008-bd83-491f-c367-c0405b1f201e"
      },
      "outputs": [
        {
          "output_type": "execute_result",
          "data": {
            "text/plain": [
              "False"
            ]
          },
          "metadata": {},
          "execution_count": 7
        }
      ],
      "source": [
        "df_final.isnull().values.any()"
      ]
    },
    {
      "cell_type": "code",
      "execution_count": 8,
      "metadata": {
        "colab": {
          "base_uri": "https://localhost:8080/",
          "height": 289
        },
        "id": "rTLAab5wUsS-",
        "outputId": "38b962f0-484c-44e8-95a3-7bd9d3f49c23"
      },
      "outputs": [
        {
          "output_type": "execute_result",
          "data": {
            "text/plain": [
              "<matplotlib.axes._subplots.AxesSubplot at 0x7f9f791ec310>"
            ]
          },
          "metadata": {},
          "execution_count": 8
        },
        {
          "output_type": "display_data",
          "data": {
            "image/png": "[encoded data removed]",
            "text/plain": [
              "<Figure size 432x288 with 1 Axes>"
            ]
          },
          "metadata": {
            "needs_background": "light"
          }
        }
      ],
      "source": [
        "df_final['Adj Close'].plot()"
      ]
    },
    {
      "cell_type": "markdown",
      "metadata": {
        "id": "GROycudvUsTB"
      },
      "source": [
        "**Correlation Analys** \n"
      ]
    },
    {
      "cell_type": "code",
      "execution_count": 9,
      "metadata": {
        "id": "m-EEhw3CUsTC"
      },
      "outputs": [],
      "source": [
        "X=df_final.drop(['Adj Close'],axis=1)\n",
        "X=X.drop(['Close'],axis=1)"
      ]
    },
    {
      "cell_type": "code",
      "source": [
        "X.head()"
      ],
      "metadata": {
        "colab": {
          "base_uri": "https://localhost:8080/",
          "height": 238
        },
        "id": "RmEGmVf3X3DH",
        "outputId": "27b55d29-a4a4-42c8-8645-d1480fdf0af9"
      },
      "execution_count": 33,
      "outputs": [
        {
          "output_type": "execute_result",
          "data": {
            "text/html": [
              "<div>\n",
              "<style scoped>\n",
              "    .dataframe tbody tr th:only-of-type {\n",
              "        vertical-align: middle;\n",
              "    }\n",
              "\n",
              "    .dataframe tbody tr th {\n",
              "        vertical-align: top;\n",
              "    }\n",
              "\n",
              "    .dataframe thead th {\n",
              "        text-align: right;\n",
              "    }\n",
              "</style>\n",
              "<table border=\"1\" class=\"dataframe\">\n",
              "  <thead>\n",
              "    <tr style=\"text-align: right;\">\n",
              "      <th></th>\n",
              "      <th>Open</th>\n",
              "      <th>High</th>\n",
              "      <th>Low</th>\n",
              "      <th>Volume</th>\n",
              "    </tr>\n",
              "    <tr>\n",
              "      <th>Date</th>\n",
              "      <th></th>\n",
              "      <th></th>\n",
              "      <th></th>\n",
              "      <th></th>\n",
              "    </tr>\n",
              "  </thead>\n",
              "  <tbody>\n",
              "    <tr>\n",
              "      <th>1990-01-02</th>\n",
              "      <td>0.605903</td>\n",
              "      <td>0.616319</td>\n",
              "      <td>0.598090</td>\n",
              "      <td>53033600</td>\n",
              "    </tr>\n",
              "    <tr>\n",
              "      <th>1990-01-03</th>\n",
              "      <td>0.621528</td>\n",
              "      <td>0.626736</td>\n",
              "      <td>0.614583</td>\n",
              "      <td>113772800</td>\n",
              "    </tr>\n",
              "    <tr>\n",
              "      <th>1990-01-04</th>\n",
              "      <td>0.619792</td>\n",
              "      <td>0.638889</td>\n",
              "      <td>0.616319</td>\n",
              "      <td>125740800</td>\n",
              "    </tr>\n",
              "    <tr>\n",
              "      <th>1990-01-05</th>\n",
              "      <td>0.635417</td>\n",
              "      <td>0.638889</td>\n",
              "      <td>0.621528</td>\n",
              "      <td>69564800</td>\n",
              "    </tr>\n",
              "    <tr>\n",
              "      <th>1990-01-08</th>\n",
              "      <td>0.621528</td>\n",
              "      <td>0.631944</td>\n",
              "      <td>0.614583</td>\n",
              "      <td>58982400</td>\n",
              "    </tr>\n",
              "  </tbody>\n",
              "</table>\n",
              "</div>"
            ],
            "text/plain": [
              "                Open      High       Low     Volume\n",
              "Date                                               \n",
              "1990-01-02  0.605903  0.616319  0.598090   53033600\n",
              "1990-01-03  0.621528  0.626736  0.614583  113772800\n",
              "1990-01-04  0.619792  0.638889  0.616319  125740800\n",
              "1990-01-05  0.635417  0.638889  0.621528   69564800\n",
              "1990-01-08  0.621528  0.631944  0.614583   58982400"
            ]
          },
          "metadata": {},
          "execution_count": 33
        }
      ]
    },
    {
      "cell_type": "code",
      "execution_count": 10,
      "metadata": {
        "colab": {
          "base_uri": "https://localhost:8080/",
          "height": 689
        },
        "id": "zscPYrJ5UsTD",
        "outputId": "7c768e3a-235d-4097-a4e8-0518907d5c88"
      },
      "outputs": [
        {
          "output_type": "execute_result",
          "data": {
            "text/plain": [
              "<matplotlib.axes._subplots.AxesSubplot at 0x7f9f791541d0>"
            ]
          },
          "metadata": {},
          "execution_count": 10
        },
        {
          "output_type": "display_data",
          "data": {
            "image/png": "[encoded data removed]",
            "text/plain": [
              "<Figure size 1440x720 with 1 Axes>"
            ]
          },
          "metadata": {
            "needs_background": "light"
          }
        }
      ],
      "source": [
        "X.corrwith(df_final['Adj Close']).plot.bar(\n",
        "        figsize = (20, 10), title = \"Correlation with Adj Close\", fontsize = 20,\n",
        "        rot = 90, grid = True)"
      ]
    },
    {
      "cell_type": "code",
      "execution_count": 11,
      "metadata": {
        "colab": {
          "base_uri": "https://localhost:8080/",
          "height": 238
        },
        "id": "SKKgXlt8UsTE",
        "outputId": "c9ada161-0cde-4b9b-df06-83ba23e3a5b5"
      },
      "outputs": [
        {
          "output_type": "display_data",
          "data": {
            "text/html": [
              "<div>\n",
              "<style scoped>\n",
              "    .dataframe tbody tr th:only-of-type {\n",
              "        vertical-align: middle;\n",
              "    }\n",
              "\n",
              "    .dataframe tbody tr th {\n",
              "        vertical-align: top;\n",
              "    }\n",
              "\n",
              "    .dataframe thead th {\n",
              "        text-align: right;\n",
              "    }\n",
              "</style>\n",
              "<table border=\"1\" class=\"dataframe\">\n",
              "  <thead>\n",
              "    <tr style=\"text-align: right;\">\n",
              "      <th></th>\n",
              "      <th>Open</th>\n",
              "      <th>High</th>\n",
              "      <th>Low</th>\n",
              "      <th>Close</th>\n",
              "      <th>Adj Close</th>\n",
              "      <th>Volume</th>\n",
              "    </tr>\n",
              "    <tr>\n",
              "      <th>Date</th>\n",
              "      <th></th>\n",
              "      <th></th>\n",
              "      <th></th>\n",
              "      <th></th>\n",
              "      <th></th>\n",
              "      <th></th>\n",
              "    </tr>\n",
              "  </thead>\n",
              "  <tbody>\n",
              "    <tr>\n",
              "      <th>1990-01-02</th>\n",
              "      <td>0.605903</td>\n",
              "      <td>0.616319</td>\n",
              "      <td>0.598090</td>\n",
              "      <td>0.616319</td>\n",
              "      <td>0.447268</td>\n",
              "      <td>53033600</td>\n",
              "    </tr>\n",
              "    <tr>\n",
              "      <th>1990-01-03</th>\n",
              "      <td>0.621528</td>\n",
              "      <td>0.626736</td>\n",
              "      <td>0.614583</td>\n",
              "      <td>0.619792</td>\n",
              "      <td>0.449788</td>\n",
              "      <td>113772800</td>\n",
              "    </tr>\n",
              "    <tr>\n",
              "      <th>1990-01-04</th>\n",
              "      <td>0.619792</td>\n",
              "      <td>0.638889</td>\n",
              "      <td>0.616319</td>\n",
              "      <td>0.638021</td>\n",
              "      <td>0.463017</td>\n",
              "      <td>125740800</td>\n",
              "    </tr>\n",
              "    <tr>\n",
              "      <th>1990-01-05</th>\n",
              "      <td>0.635417</td>\n",
              "      <td>0.638889</td>\n",
              "      <td>0.621528</td>\n",
              "      <td>0.622396</td>\n",
              "      <td>0.451678</td>\n",
              "      <td>69564800</td>\n",
              "    </tr>\n",
              "    <tr>\n",
              "      <th>1990-01-08</th>\n",
              "      <td>0.621528</td>\n",
              "      <td>0.631944</td>\n",
              "      <td>0.614583</td>\n",
              "      <td>0.631944</td>\n",
              "      <td>0.458607</td>\n",
              "      <td>58982400</td>\n",
              "    </tr>\n",
              "  </tbody>\n",
              "</table>\n",
              "</div>"
            ],
            "text/plain": [
              "                Open      High       Low     Close  Adj Close     Volume\n",
              "Date                                                                    \n",
              "1990-01-02  0.605903  0.616319  0.598090  0.616319   0.447268   53033600\n",
              "1990-01-03  0.621528  0.626736  0.614583  0.619792   0.449788  113772800\n",
              "1990-01-04  0.619792  0.638889  0.616319  0.638021   0.463017  125740800\n",
              "1990-01-05  0.635417  0.638889  0.621528  0.622396   0.451678   69564800\n",
              "1990-01-08  0.621528  0.631944  0.614583  0.631944   0.458607   58982400"
            ]
          },
          "metadata": {}
        }
      ],
      "source": [
        "test = df_final\n",
        "# Target column\n",
        "target_adj_close = pd.DataFrame(test['Adj Close'])\n",
        "display(test.head())"
      ]
    },
    {
      "cell_type": "code",
      "source": [
        "target_adj_close"
      ],
      "metadata": {
        "colab": {
          "base_uri": "https://localhost:8080/",
          "height": 455
        },
        "id": "SaLg1ti2ZEoA",
        "outputId": "2e3d13f5-a651-4ce2-f011-f07eaa3e6954"
      },
      "execution_count": 34,
      "outputs": [
        {
          "output_type": "execute_result",
          "data": {
            "text/html": [
              "<div>\n",
              "<style scoped>\n",
              "    .dataframe tbody tr th:only-of-type {\n",
              "        vertical-align: middle;\n",
              "    }\n",
              "\n",
              "    .dataframe tbody tr th {\n",
              "        vertical-align: top;\n",
              "    }\n",
              "\n",
              "    .dataframe thead th {\n",
              "        text-align: right;\n",
              "    }\n",
              "</style>\n",
              "<table border=\"1\" class=\"dataframe\">\n",
              "  <thead>\n",
              "    <tr style=\"text-align: right;\">\n",
              "      <th></th>\n",
              "      <th>Adj Close</th>\n",
              "    </tr>\n",
              "    <tr>\n",
              "      <th>Date</th>\n",
              "      <th></th>\n",
              "    </tr>\n",
              "  </thead>\n",
              "  <tbody>\n",
              "    <tr>\n",
              "      <th>1990-01-02</th>\n",
              "      <td>0.449788</td>\n",
              "    </tr>\n",
              "    <tr>\n",
              "      <th>1990-01-03</th>\n",
              "      <td>0.463017</td>\n",
              "    </tr>\n",
              "    <tr>\n",
              "      <th>1990-01-04</th>\n",
              "      <td>0.451678</td>\n",
              "    </tr>\n",
              "    <tr>\n",
              "      <th>1990-01-05</th>\n",
              "      <td>0.458607</td>\n",
              "    </tr>\n",
              "    <tr>\n",
              "      <th>1990-01-08</th>\n",
              "      <td>0.457347</td>\n",
              "    </tr>\n",
              "    <tr>\n",
              "      <th>...</th>\n",
              "      <td>...</td>\n",
              "    </tr>\n",
              "    <tr>\n",
              "      <th>2018-09-24</th>\n",
              "      <td>113.957695</td>\n",
              "    </tr>\n",
              "    <tr>\n",
              "      <th>2018-09-25</th>\n",
              "      <td>113.489723</td>\n",
              "    </tr>\n",
              "    <tr>\n",
              "      <th>2018-09-26</th>\n",
              "      <td>113.917870</td>\n",
              "    </tr>\n",
              "    <tr>\n",
              "      <th>2018-09-27</th>\n",
              "      <td>113.878044</td>\n",
              "    </tr>\n",
              "    <tr>\n",
              "      <th>2018-09-28</th>\n",
              "      <td>115.112709</td>\n",
              "    </tr>\n",
              "  </tbody>\n",
              "</table>\n",
              "<p>7244 rows × 1 columns</p>\n",
              "</div>"
            ],
            "text/plain": [
              "             Adj Close\n",
              "Date                  \n",
              "1990-01-02    0.449788\n",
              "1990-01-03    0.463017\n",
              "1990-01-04    0.451678\n",
              "1990-01-05    0.458607\n",
              "1990-01-08    0.457347\n",
              "...                ...\n",
              "2018-09-24  113.957695\n",
              "2018-09-25  113.489723\n",
              "2018-09-26  113.917870\n",
              "2018-09-27  113.878044\n",
              "2018-09-28  115.112709\n",
              "\n",
              "[7244 rows x 1 columns]"
            ]
          },
          "metadata": {},
          "execution_count": 34
        }
      ]
    },
    {
      "cell_type": "code",
      "execution_count": 12,
      "metadata": {
        "id": "rIpUkGVlUsTF"
      },
      "outputs": [],
      "source": [
        "# selecting Feature Columns\n",
        "feature_columns = ['Open', 'High', 'Low', 'Volume']"
      ]
    },
    {
      "cell_type": "markdown",
      "metadata": {
        "id": "YxLeg8AfUsTG"
      },
      "source": [
        "# Normalizing the data"
      ]
    },
    {
      "cell_type": "code",
      "execution_count": 13,
      "metadata": {
        "colab": {
          "base_uri": "https://localhost:8080/",
          "height": 238
        },
        "id": "lWu27PvqUsTH",
        "outputId": "5ab232a9-1782-4c07-fa82-8b99d4847ae4"
      },
      "outputs": [
        {
          "output_type": "execute_result",
          "data": {
            "text/html": [
              "<div>\n",
              "<style scoped>\n",
              "    .dataframe tbody tr th:only-of-type {\n",
              "        vertical-align: middle;\n",
              "    }\n",
              "\n",
              "    .dataframe tbody tr th {\n",
              "        vertical-align: top;\n",
              "    }\n",
              "\n",
              "    .dataframe thead th {\n",
              "        text-align: right;\n",
              "    }\n",
              "</style>\n",
              "<table border=\"1\" class=\"dataframe\">\n",
              "  <thead>\n",
              "    <tr style=\"text-align: right;\">\n",
              "      <th></th>\n",
              "      <th>Open</th>\n",
              "      <th>High</th>\n",
              "      <th>Low</th>\n",
              "      <th>Volume</th>\n",
              "    </tr>\n",
              "    <tr>\n",
              "      <th>Date</th>\n",
              "      <th></th>\n",
              "      <th></th>\n",
              "      <th></th>\n",
              "      <th></th>\n",
              "    </tr>\n",
              "  </thead>\n",
              "  <tbody>\n",
              "    <tr>\n",
              "      <th>1990-01-02</th>\n",
              "      <td>0.000129</td>\n",
              "      <td>0.000105</td>\n",
              "      <td>0.000129</td>\n",
              "      <td>0.064837</td>\n",
              "    </tr>\n",
              "    <tr>\n",
              "      <th>1990-01-03</th>\n",
              "      <td>0.000265</td>\n",
              "      <td>0.000195</td>\n",
              "      <td>0.000273</td>\n",
              "      <td>0.144673</td>\n",
              "    </tr>\n",
              "    <tr>\n",
              "      <th>1990-01-04</th>\n",
              "      <td>0.000249</td>\n",
              "      <td>0.000300</td>\n",
              "      <td>0.000288</td>\n",
              "      <td>0.160404</td>\n",
              "    </tr>\n",
              "    <tr>\n",
              "      <th>1990-01-05</th>\n",
              "      <td>0.000386</td>\n",
              "      <td>0.000300</td>\n",
              "      <td>0.000334</td>\n",
              "      <td>0.086566</td>\n",
              "    </tr>\n",
              "    <tr>\n",
              "      <th>1990-01-08</th>\n",
              "      <td>0.000265</td>\n",
              "      <td>0.000240</td>\n",
              "      <td>0.000273</td>\n",
              "      <td>0.072656</td>\n",
              "    </tr>\n",
              "  </tbody>\n",
              "</table>\n",
              "</div>"
            ],
            "text/plain": [
              "                Open      High       Low    Volume\n",
              "Date                                              \n",
              "1990-01-02  0.000129  0.000105  0.000129  0.064837\n",
              "1990-01-03  0.000265  0.000195  0.000273  0.144673\n",
              "1990-01-04  0.000249  0.000300  0.000288  0.160404\n",
              "1990-01-05  0.000386  0.000300  0.000334  0.086566\n",
              "1990-01-08  0.000265  0.000240  0.000273  0.072656"
            ]
          },
          "metadata": {},
          "execution_count": 13
        }
      ],
      "source": [
        "from sklearn.preprocessing import MinMaxScaler\n",
        "scaler = MinMaxScaler()\n",
        "feature_minmax_transform_data = scaler.fit_transform(test[feature_columns])\n",
        "feature_minmax_transform = pd.DataFrame(columns=feature_columns, data=feature_minmax_transform_data, index=test.index)\n",
        "feature_minmax_transform.head()"
      ]
    },
    {
      "cell_type": "code",
      "execution_count": 14,
      "metadata": {
        "colab": {
          "base_uri": "https://localhost:8080/",
          "height": 1000
        },
        "id": "EWZ1Cxw0UsTI",
        "outputId": "58185bc2-b056-438d-baca-4c25fe2b27ec"
      },
      "outputs": [
        {
          "output_type": "display_data",
          "data": {
            "text/html": [
              "<div>\n",
              "<style scoped>\n",
              "    .dataframe tbody tr th:only-of-type {\n",
              "        vertical-align: middle;\n",
              "    }\n",
              "\n",
              "    .dataframe tbody tr th {\n",
              "        vertical-align: top;\n",
              "    }\n",
              "\n",
              "    .dataframe thead th {\n",
              "        text-align: right;\n",
              "    }\n",
              "</style>\n",
              "<table border=\"1\" class=\"dataframe\">\n",
              "  <thead>\n",
              "    <tr style=\"text-align: right;\">\n",
              "      <th></th>\n",
              "      <th>Open</th>\n",
              "      <th>High</th>\n",
              "      <th>Low</th>\n",
              "      <th>Volume</th>\n",
              "    </tr>\n",
              "    <tr>\n",
              "      <th>Date</th>\n",
              "      <th></th>\n",
              "      <th></th>\n",
              "      <th></th>\n",
              "      <th></th>\n",
              "    </tr>\n",
              "  </thead>\n",
              "  <tbody>\n",
              "    <tr>\n",
              "      <th>1990-01-02</th>\n",
              "      <td>0.000129</td>\n",
              "      <td>0.000105</td>\n",
              "      <td>0.000129</td>\n",
              "      <td>0.064837</td>\n",
              "    </tr>\n",
              "    <tr>\n",
              "      <th>1990-01-03</th>\n",
              "      <td>0.000265</td>\n",
              "      <td>0.000195</td>\n",
              "      <td>0.000273</td>\n",
              "      <td>0.144673</td>\n",
              "    </tr>\n",
              "    <tr>\n",
              "      <th>1990-01-04</th>\n",
              "      <td>0.000249</td>\n",
              "      <td>0.000300</td>\n",
              "      <td>0.000288</td>\n",
              "      <td>0.160404</td>\n",
              "    </tr>\n",
              "    <tr>\n",
              "      <th>1990-01-05</th>\n",
              "      <td>0.000386</td>\n",
              "      <td>0.000300</td>\n",
              "      <td>0.000334</td>\n",
              "      <td>0.086566</td>\n",
              "    </tr>\n",
              "    <tr>\n",
              "      <th>1990-01-08</th>\n",
              "      <td>0.000265</td>\n",
              "      <td>0.000240</td>\n",
              "      <td>0.000273</td>\n",
              "      <td>0.072656</td>\n",
              "    </tr>\n",
              "  </tbody>\n",
              "</table>\n",
              "</div>"
            ],
            "text/plain": [
              "                Open      High       Low    Volume\n",
              "Date                                              \n",
              "1990-01-02  0.000129  0.000105  0.000129  0.064837\n",
              "1990-01-03  0.000265  0.000195  0.000273  0.144673\n",
              "1990-01-04  0.000249  0.000300  0.000288  0.160404\n",
              "1990-01-05  0.000386  0.000300  0.000334  0.086566\n",
              "1990-01-08  0.000265  0.000240  0.000273  0.072656"
            ]
          },
          "metadata": {}
        },
        {
          "output_type": "stream",
          "name": "stdout",
          "text": [
            "Shape of features :  (7334, 4)\n",
            "Shape of target :  (7334, 1)\n"
          ]
        },
        {
          "output_type": "display_data",
          "data": {
            "text/html": [
              "<div>\n",
              "<style scoped>\n",
              "    .dataframe tbody tr th:only-of-type {\n",
              "        vertical-align: middle;\n",
              "    }\n",
              "\n",
              "    .dataframe tbody tr th {\n",
              "        vertical-align: top;\n",
              "    }\n",
              "\n",
              "    .dataframe thead th {\n",
              "        text-align: right;\n",
              "    }\n",
              "</style>\n",
              "<table border=\"1\" class=\"dataframe\">\n",
              "  <thead>\n",
              "    <tr style=\"text-align: right;\">\n",
              "      <th></th>\n",
              "      <th>Open</th>\n",
              "      <th>High</th>\n",
              "      <th>Low</th>\n",
              "      <th>Volume</th>\n",
              "    </tr>\n",
              "    <tr>\n",
              "      <th>Date</th>\n",
              "      <th></th>\n",
              "      <th></th>\n",
              "      <th></th>\n",
              "      <th></th>\n",
              "    </tr>\n",
              "  </thead>\n",
              "  <tbody>\n",
              "    <tr>\n",
              "      <th>2019-02-01</th>\n",
              "      <td>0.898632</td>\n",
              "      <td>0.895480</td>\n",
              "      <td>0.889984</td>\n",
              "      <td>0.041838</td>\n",
              "    </tr>\n",
              "    <tr>\n",
              "      <th>2019-02-04</th>\n",
              "      <td>0.890707</td>\n",
              "      <td>0.910189</td>\n",
              "      <td>0.893657</td>\n",
              "      <td>0.036290</td>\n",
              "    </tr>\n",
              "    <tr>\n",
              "      <th>2019-02-05</th>\n",
              "      <td>0.918487</td>\n",
              "      <td>0.922908</td>\n",
              "      <td>0.921554</td>\n",
              "      <td>0.031046</td>\n",
              "    </tr>\n",
              "    <tr>\n",
              "      <th>2019-02-06</th>\n",
              "      <td>0.926673</td>\n",
              "      <td>0.920572</td>\n",
              "      <td>0.917794</td>\n",
              "      <td>0.022219</td>\n",
              "    </tr>\n",
              "    <tr>\n",
              "      <th>2019-02-07</th>\n",
              "      <td>0.910911</td>\n",
              "      <td>0.908372</td>\n",
              "      <td>0.906950</td>\n",
              "      <td>0.034247</td>\n",
              "    </tr>\n",
              "  </tbody>\n",
              "</table>\n",
              "</div>"
            ],
            "text/plain": [
              "                Open      High       Low    Volume\n",
              "Date                                              \n",
              "2019-02-01  0.898632  0.895480  0.889984  0.041838\n",
              "2019-02-04  0.890707  0.910189  0.893657  0.036290\n",
              "2019-02-05  0.918487  0.922908  0.921554  0.031046\n",
              "2019-02-06  0.926673  0.920572  0.917794  0.022219\n",
              "2019-02-07  0.910911  0.908372  0.906950  0.034247"
            ]
          },
          "metadata": {}
        },
        {
          "output_type": "display_data",
          "data": {
            "text/html": [
              "<div>\n",
              "<style scoped>\n",
              "    .dataframe tbody tr th:only-of-type {\n",
              "        vertical-align: middle;\n",
              "    }\n",
              "\n",
              "    .dataframe tbody tr th {\n",
              "        vertical-align: top;\n",
              "    }\n",
              "\n",
              "    .dataframe thead th {\n",
              "        text-align: right;\n",
              "    }\n",
              "</style>\n",
              "<table border=\"1\" class=\"dataframe\">\n",
              "  <thead>\n",
              "    <tr style=\"text-align: right;\">\n",
              "      <th></th>\n",
              "      <th>Adj Close</th>\n",
              "    </tr>\n",
              "    <tr>\n",
              "      <th>Date</th>\n",
              "      <th></th>\n",
              "    </tr>\n",
              "  </thead>\n",
              "  <tbody>\n",
              "    <tr>\n",
              "      <th>2019-02-01</th>\n",
              "      <td>105.739998</td>\n",
              "    </tr>\n",
              "    <tr>\n",
              "      <th>2019-02-04</th>\n",
              "      <td>107.220001</td>\n",
              "    </tr>\n",
              "    <tr>\n",
              "      <th>2019-02-05</th>\n",
              "      <td>106.029999</td>\n",
              "    </tr>\n",
              "    <tr>\n",
              "      <th>2019-02-06</th>\n",
              "      <td>105.269997</td>\n",
              "    </tr>\n",
              "    <tr>\n",
              "      <th>2019-02-07</th>\n",
              "      <td>105.669998</td>\n",
              "    </tr>\n",
              "  </tbody>\n",
              "</table>\n",
              "</div>"
            ],
            "text/plain": [
              "             Adj Close\n",
              "Date                  \n",
              "2019-02-01  105.739998\n",
              "2019-02-04  107.220001\n",
              "2019-02-05  106.029999\n",
              "2019-02-06  105.269997\n",
              "2019-02-07  105.669998"
            ]
          },
          "metadata": {}
        },
        {
          "output_type": "stream",
          "name": "stdout",
          "text": [
            "\n",
            " -----After process------ \n",
            "\n",
            "Shape of features :  (7244, 4)\n",
            "Shape of target :  (7244, 1)\n"
          ]
        },
        {
          "output_type": "display_data",
          "data": {
            "text/html": [
              "<div>\n",
              "<style scoped>\n",
              "    .dataframe tbody tr th:only-of-type {\n",
              "        vertical-align: middle;\n",
              "    }\n",
              "\n",
              "    .dataframe tbody tr th {\n",
              "        vertical-align: top;\n",
              "    }\n",
              "\n",
              "    .dataframe thead th {\n",
              "        text-align: right;\n",
              "    }\n",
              "</style>\n",
              "<table border=\"1\" class=\"dataframe\">\n",
              "  <thead>\n",
              "    <tr style=\"text-align: right;\">\n",
              "      <th></th>\n",
              "      <th>Adj Close</th>\n",
              "    </tr>\n",
              "    <tr>\n",
              "      <th>Date</th>\n",
              "      <th></th>\n",
              "    </tr>\n",
              "  </thead>\n",
              "  <tbody>\n",
              "    <tr>\n",
              "      <th>2018-09-24</th>\n",
              "      <td>113.957695</td>\n",
              "    </tr>\n",
              "    <tr>\n",
              "      <th>2018-09-25</th>\n",
              "      <td>113.489723</td>\n",
              "    </tr>\n",
              "    <tr>\n",
              "      <th>2018-09-26</th>\n",
              "      <td>113.917870</td>\n",
              "    </tr>\n",
              "    <tr>\n",
              "      <th>2018-09-27</th>\n",
              "      <td>113.878044</td>\n",
              "    </tr>\n",
              "    <tr>\n",
              "      <th>2018-09-28</th>\n",
              "      <td>115.112709</td>\n",
              "    </tr>\n",
              "  </tbody>\n",
              "</table>\n",
              "</div>"
            ],
            "text/plain": [
              "             Adj Close\n",
              "Date                  \n",
              "2018-09-24  113.957695\n",
              "2018-09-25  113.489723\n",
              "2018-09-26  113.917870\n",
              "2018-09-27  113.878044\n",
              "2018-09-28  115.112709"
            ]
          },
          "metadata": {}
        }
      ],
      "source": [
        "display(feature_minmax_transform.head())\n",
        "print('Shape of features : ', feature_minmax_transform.shape)\n",
        "print('Shape of target : ', target_adj_close.shape)\n",
        "\n",
        "# Shift target array because we want to predict the n + 1 day value\n",
        "\n",
        "\n",
        "target_adj_close = target_adj_close.shift(-1)\n",
        "validation_y = target_adj_close[-90:-1]\n",
        "target_adj_close = target_adj_close[:-90]\n",
        "\n",
        "# Taking last 90 rows of data to be validation set\n",
        "validation_X = feature_minmax_transform[-90:-1]\n",
        "feature_minmax_transform = feature_minmax_transform[:-90]\n",
        "display(validation_X.tail())\n",
        "display(validation_y.tail())\n",
        "\n",
        "print(\"\\n -----After process------ \\n\")\n",
        "print('Shape of features : ', feature_minmax_transform.shape)\n",
        "print('Shape of target : ', target_adj_close.shape)\n",
        "display(target_adj_close.tail())"
      ]
    },
    {
      "cell_type": "markdown",
      "metadata": {
        "id": "2-zd6MYkUsTK"
      },
      "source": [
        "# Train test Split using Timeseriessplit"
      ]
    },
    {
      "cell_type": "code",
      "execution_count": 15,
      "metadata": {
        "id": "KWpFo5hrUsTK"
      },
      "outputs": [],
      "source": [
        "ts_split= TimeSeriesSplit(n_splits=10)\n",
        "for train_index, test_index in ts_split.split(feature_minmax_transform):\n",
        "        X_train, X_test = feature_minmax_transform[:len(train_index)], feature_minmax_transform[len(train_index): (len(train_index)+len(test_index))]\n",
        "        y_train, y_test = target_adj_close[:len(train_index)].values.ravel(), target_adj_close[len(train_index): (len(train_index)+len(test_index))].values.ravel()"
      ]
    },
    {
      "cell_type": "code",
      "execution_count": 16,
      "metadata": {
        "colab": {
          "base_uri": "https://localhost:8080/"
        },
        "id": "QwuuZaarUsTL",
        "outputId": "360d7dff-946e-4f62-ad73-43fe5998f503"
      },
      "outputs": [
        {
          "output_type": "execute_result",
          "data": {
            "text/plain": [
              "(6586, 4)"
            ]
          },
          "metadata": {},
          "execution_count": 16
        }
      ],
      "source": [
        "\n",
        "X_train.shape"
      ]
    },
    {
      "cell_type": "code",
      "execution_count": 17,
      "metadata": {
        "colab": {
          "base_uri": "https://localhost:8080/"
        },
        "id": "RCkwRfNHUsTM",
        "outputId": "a95e1c89-627c-4c07-b1f4-8f841772684d"
      },
      "outputs": [
        {
          "output_type": "execute_result",
          "data": {
            "text/plain": [
              "(658, 4)"
            ]
          },
          "metadata": {},
          "execution_count": 17
        }
      ],
      "source": [
        "X_test.shape"
      ]
    },
    {
      "cell_type": "code",
      "execution_count": 18,
      "metadata": {
        "colab": {
          "base_uri": "https://localhost:8080/"
        },
        "id": "kv5DaSFLUsTM",
        "outputId": "45e0cd69-d929-4190-cc04-7326a5408a2b"
      },
      "outputs": [
        {
          "output_type": "execute_result",
          "data": {
            "text/plain": [
              "(6586,)"
            ]
          },
          "metadata": {},
          "execution_count": 18
        }
      ],
      "source": [
        "y_train.shape"
      ]
    },
    {
      "cell_type": "code",
      "execution_count": 19,
      "metadata": {
        "colab": {
          "base_uri": "https://localhost:8080/"
        },
        "id": "qIbIjf1uUsTN",
        "outputId": "66437191-75b9-49db-d488-f4a35aef1dd1"
      },
      "outputs": [
        {
          "output_type": "execute_result",
          "data": {
            "text/plain": [
              "(658,)"
            ]
          },
          "metadata": {},
          "execution_count": 19
        }
      ],
      "source": [
        "y_test.shape"
      ]
    },
    {
      "cell_type": "code",
      "execution_count": 20,
      "metadata": {
        "id": "z1ew_nZOUsTO"
      },
      "outputs": [],
      "source": [
        "def validate_result(model, model_name):\n",
        "    predicted = model.predict(validation_X)\n",
        "    RSME_score = np.sqrt(mean_squared_error(validation_y, predicted))\n",
        "    print('RMSE: ', RSME_score)\n",
        "    \n",
        "    R2_score = r2_score(validation_y, predicted)\n",
        "    print('R2 score: ', R2_score)\n",
        "\n",
        "    plt.plot(validation_y.index, predicted,'r', label='Predict')\n",
        "    plt.plot(validation_y.index, validation_y,'b', label='Actual')\n",
        "    plt.ylabel('Price')\n",
        "    plt.gca().xaxis.set_major_formatter(mdates.DateFormatter('%Y-%m-%d'))\n",
        "    plt.gca().xaxis.set_major_locator(mdates.MonthLocator())\n",
        "    plt.title(model_name + ' Predict vs Actual')\n",
        "    plt.legend(loc='upper right')\n",
        "    plt.show()"
      ]
    },
    {
      "cell_type": "markdown",
      "metadata": {
        "id": "fkKM5bQQUsTP"
      },
      "source": [
        "# Benchmark Model"
      ]
    },
    {
      "cell_type": "code",
      "execution_count": 21,
      "metadata": {
        "colab": {
          "base_uri": "https://localhost:8080/",
          "height": 316
        },
        "id": "8o7QofooUsTQ",
        "outputId": "53c6d007-4571-484d-f1fa-b84feff5db58"
      },
      "outputs": [
        {
          "output_type": "stream",
          "name": "stdout",
          "text": [
            "RMSE:  64.27218093927979\n",
            "R2 score:  -304.87987628496893\n"
          ]
        },
        {
          "output_type": "display_data",
          "data": {
            "image/png": "[encoded data removed]",
            "text/plain": [
              "<Figure size 432x288 with 1 Axes>"
            ]
          },
          "metadata": {
            "needs_background": "light"
          }
        }
      ],
      "source": [
        "from sklearn.tree import DecisionTreeRegressor\n",
        "\n",
        "dt = DecisionTreeRegressor(random_state=0)\n",
        "\n",
        "benchmark_dt=dt.fit(X_train, y_train)\n",
        "\n",
        "validate_result(benchmark_dt, 'Decision Tree Regression')"
      ]
    },
    {
      "cell_type": "markdown",
      "metadata": {
        "id": "QqkUnHCYUsTQ"
      },
      "source": [
        "# Process the data for LSTM"
      ]
    },
    {
      "cell_type": "code",
      "execution_count": 22,
      "metadata": {
        "id": "eF2ZaKgIUsTR"
      },
      "outputs": [],
      "source": [
        "X_train =np.array(X_train)\n",
        "X_test =np.array(X_test)\n",
        "\n",
        "X_tr_t = X_train.reshape(X_train.shape[0], 1, X_train.shape[1])\n",
        "X_tst_t = X_test.reshape(X_test.shape[0], 1, X_test.shape[1])"
      ]
    },
    {
      "cell_type": "markdown",
      "metadata": {
        "id": "GwFNRyMcUsTR"
      },
      "source": [
        "# Model building : LSTM"
      ]
    },
    {
      "cell_type": "code",
      "execution_count": 24,
      "metadata": {
        "colab": {
          "base_uri": "https://localhost:8080/"
        },
        "id": "YqCdi60OUsTS",
        "outputId": "bd416737-0970-449b-bea1-11f777d1b122"
      },
      "outputs": [
        {
          "output_type": "stream",
          "name": "stdout",
          "text": [
            "Epoch 1/200\n",
            "824/824 [==============================] - 3s 2ms/step - loss: 172.9290\n",
            "Epoch 2/200\n",
            "824/824 [==============================] - 2s 2ms/step - loss: 33.5423\n",
            "Epoch 3/200\n",
            "824/824 [==============================] - 2s 2ms/step - loss: 31.9123\n",
            "Epoch 4/200\n",
            "824/824 [==============================] - 2s 2ms/step - loss: 19.8921\n",
            "Epoch 5/200\n",
            "824/824 [==============================] - 2s 2ms/step - loss: 9.3363\n",
            "Epoch 6/200\n",
            "824/824 [==============================] - 2s 2ms/step - loss: 3.5276\n",
            "Epoch 7/200\n",
            "824/824 [==============================] - 2s 2ms/step - loss: 1.6759\n",
            "Epoch 8/200\n",
            "824/824 [==============================] - 2s 2ms/step - loss: 1.2756\n",
            "Epoch 9/200\n",
            "824/824 [==============================] - 2s 2ms/step - loss: 1.1408\n",
            "Epoch 10/200\n",
            "824/824 [==============================] - 2s 2ms/step - loss: 1.0598\n",
            "Epoch 11/200\n",
            "824/824 [==============================] - 2s 2ms/step - loss: 1.0068\n",
            "Epoch 12/200\n",
            "824/824 [==============================] - 2s 2ms/step - loss: 0.9732\n",
            "Epoch 13/200\n",
            "824/824 [==============================] - 2s 2ms/step - loss: 0.9528\n",
            "Epoch 14/200\n",
            "824/824 [==============================] - 2s 2ms/step - loss: 0.9410\n",
            "Epoch 15/200\n",
            "824/824 [==============================] - 2s 2ms/step - loss: 0.9345\n",
            "Epoch 16/200\n",
            "824/824 [==============================] - 2s 2ms/step - loss: 0.9313\n",
            "Epoch 17/200\n",
            "824/824 [==============================] - 2s 2ms/step - loss: 0.9301\n",
            "Epoch 18/200\n",
            "824/824 [==============================] - 2s 2ms/step - loss: 0.9300\n",
            "Epoch 19/200\n",
            "824/824 [==============================] - 2s 2ms/step - loss: 0.9306\n",
            "Epoch 20/200\n",
            "824/824 [==============================] - 2s 2ms/step - loss: 0.9315\n",
            "Epoch 21/200\n",
            "824/824 [==============================] - 2s 2ms/step - loss: 0.9327\n",
            "Epoch 22/200\n",
            "824/824 [==============================] - 2s 2ms/step - loss: 0.9339\n",
            "Epoch 23/200\n",
            "824/824 [==============================] - 2s 2ms/step - loss: 0.9351\n",
            "Epoch 00023: early stopping\n"
          ]
        }
      ],
      "source": [
        "\n",
        "from keras.models import Sequential\n",
        "from keras.layers import Dense\n",
        "import keras.backend as K\n",
        "from keras.callbacks import EarlyStopping\n",
        "from tensorflow.keras.optimizers import Adam\n",
        "from keras.models import load_model\n",
        "from keras.layers import LSTM\n",
        "K.clear_session()\n",
        "model_lstm = Sequential()\n",
        "model_lstm.add(LSTM(16, input_shape=(1, X_train.shape[1]), activation='relu', return_sequences=False))\n",
        "model_lstm.add(Dense(1))\n",
        "model_lstm.compile(loss='mean_squared_error', optimizer='adam')\n",
        "early_stop = EarlyStopping(monitor='loss', patience=5, verbose=1)\n",
        "history_model_lstm = model_lstm.fit(X_tr_t, y_train, epochs=200, batch_size=8, verbose=1, shuffle=False, callbacks=[early_stop])"
      ]
    },
    {
      "cell_type": "markdown",
      "metadata": {
        "id": "G2uxeYmjUsTS"
      },
      "source": [
        "# Evaluation of Model"
      ]
    },
    {
      "cell_type": "code",
      "execution_count": 25,
      "metadata": {
        "colab": {
          "base_uri": "https://localhost:8080/"
        },
        "id": "mCHz_QoKUsTT",
        "outputId": "66ad79ea-3193-4806-8212-4ef7c039c960"
      },
      "outputs": [
        {
          "output_type": "stream",
          "name": "stdout",
          "text": [
            "The R2 score on the Train set is:\t0.876\n",
            "The R2 score on the Test set is:\t0.784\n"
          ]
        }
      ],
      "source": [
        "y_pred_test_lstm = model_lstm.predict(X_tst_t)\n",
        "y_train_pred_lstm = model_lstm.predict(X_tr_t)\n",
        "print(\"The R2 score on the Train set is:\\t{:0.3f}\".format(r2_score(y_train, y_train_pred_lstm)))\n",
        "r2_train = r2_score(y_train, y_train_pred_lstm)\n",
        "\n",
        "print(\"The R2 score on the Test set is:\\t{:0.3f}\".format(r2_score(y_test, y_pred_test_lstm)))\n",
        "r2_test = r2_score(y_test, y_pred_test_lstm)\n"
      ]
    },
    {
      "cell_type": "markdown",
      "metadata": {
        "id": "QXlE5iAEUsTT"
      },
      "source": [
        "## Predictions made by LSTM"
      ]
    },
    {
      "cell_type": "code",
      "execution_count": 26,
      "metadata": {
        "colab": {
          "base_uri": "https://localhost:8080/"
        },
        "id": "8UOAE6jfUsTT",
        "outputId": "133f8a4f-c42a-4e2d-8967-efbe23d561b9"
      },
      "outputs": [
        {
          "output_type": "stream",
          "name": "stdout",
          "text": [
            "658/658 [==============================] - 1s 1ms/step - loss: 77.6847\n"
          ]
        }
      ],
      "source": [
        "score_lstm= model_lstm.evaluate(X_tst_t, y_test, batch_size=1)"
      ]
    },
    {
      "cell_type": "code",
      "execution_count": 27,
      "metadata": {
        "colab": {
          "base_uri": "https://localhost:8080/"
        },
        "id": "uf2-eGFKUsTU",
        "outputId": "1ed01afe-6317-46d7-ee6a-51253bad3ae2"
      },
      "outputs": [
        {
          "output_type": "stream",
          "name": "stdout",
          "text": [
            "LSTM: 77.684662\n"
          ]
        }
      ],
      "source": [
        "print('LSTM: %f'%score_lstm)"
      ]
    },
    {
      "cell_type": "code",
      "execution_count": 28,
      "metadata": {
        "id": "ExLm9VpVUsTU"
      },
      "outputs": [],
      "source": [
        "y_pred_test_LSTM = model_lstm.predict(X_tst_t)"
      ]
    },
    {
      "cell_type": "markdown",
      "metadata": {
        "id": "Sl3YBQqVUsTV"
      },
      "source": [
        "# LSTM's Prediction Visual"
      ]
    },
    {
      "cell_type": "code",
      "execution_count": 29,
      "metadata": {
        "colab": {
          "base_uri": "https://localhost:8080/",
          "height": 295
        },
        "id": "o1LCh_hRUsTV",
        "outputId": "5bd0b782-f8f4-4b20-ecaf-994074ba336d"
      },
      "outputs": [
        {
          "output_type": "display_data",
          "data": {
            "image/png": "[encoded data removed]",
            "text/plain": [
              "<Figure size 432x288 with 1 Axes>"
            ]
          },
          "metadata": {
            "needs_background": "light"
          }
        }
      ],
      "source": [
        "plt.plot(y_test, label='True')\n",
        "plt.plot(y_pred_test_LSTM, label='LSTM')\n",
        "plt.title(\"LSTM's_Prediction\")\n",
        "plt.xlabel('Observation')\n",
        "plt.ylabel('INR_Scaled')\n",
        "plt.legend()\n",
        "plt.show()\n"
      ]
    },
    {
      "cell_type": "markdown",
      "metadata": {
        "id": "wSmOyC4RUsTW"
      },
      "source": [
        "# Converting Prediction data\n",
        "In this step I have made the prediction of test data and will convert the dataframe to csv so that we can see the price difference between actual and predicted price."
      ]
    },
    {
      "cell_type": "code",
      "execution_count": 30,
      "metadata": {
        "id": "_xzygUwUUsTW"
      },
      "outputs": [],
      "source": [
        "col1 = pd.DataFrame(y_test, columns=['True'])\n",
        "\n",
        "col2 = pd.DataFrame(y_pred_test_LSTM, columns=['LSTM_prediction'])\n",
        "\n",
        "col3 = pd.DataFrame(history_model_lstm.history['loss'], columns=['Loss_LSTM'])\n",
        "results = pd.concat([col1, col2, col3], axis=1)\n",
        "results.to_excel('PredictionResults_LSTM_NonShift.xlsx')"
      ]
    },
    {
      "cell_type": "markdown",
      "metadata": {
        "id": "hHf_NwUWUsTX"
      },
      "source": [
        "# Conclusion"
      ]
    },
    {
      "cell_type": "markdown",
      "metadata": {
        "id": "MWMZuVjjUsTX"
      },
      "source": [
        "It is impossible to  get a model that can 99% predict the price without any error, there are too many factors can affect the\n",
        "stock prices. So, we cannot hope there is a perfect model, but the general trend of predicted price is in line with the actual data, so the trader could have an indicator to reference, and makes trading decision by himself.\n",
        "\n",
        "\n",
        "Further, we can improve the model's accuracy by increasing the epochs, trying out different activation functions or even change the model's structure. As exact "
      ]
    },
    {
      "cell_type": "code",
      "execution_count": null,
      "metadata": {
        "id": "17NZNspgUsTX"
      },
      "outputs": [],
      "source": [
        ""
      ]
    }
  ],
  "metadata": {
    "kernelspec": {
      "display_name": "Python 3",
      "language": "python",
      "name": "python3"
    },
    "language_info": {
      "codemirror_mode": {
        "name": "ipython",
        "version": 3
      },
      "file_extension": ".py",
      "mimetype": "text/x-python",
      "name": "python",
      "nbconvert_exporter": "python",
      "pygments_lexer": "ipython3",
      "version": "3.6.5"
    },
    "colab": {
      "name": "stock_price_prediction_LSTM.ipynb",
      "provenance": [],
      "include_colab_link": true
    }
  },
  "nbformat": 4,
  "nbformat_minor": 0
}